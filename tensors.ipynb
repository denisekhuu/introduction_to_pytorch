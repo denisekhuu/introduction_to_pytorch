{
  "nbformat": 4,
  "nbformat_minor": 0,
  "metadata": {
    "colab": {
      "provenance": [],
      "collapsed_sections": [],
      "authorship_tag": "ABX9TyMOmJ863ExAeaw8v9B5ds+F",
      "include_colab_link": true
    },
    "kernelspec": {
      "name": "python3",
      "display_name": "Python 3"
    },
    "language_info": {
      "name": "python"
    },
    "accelerator": "GPU"
  },
  "cells": [
    {
      "cell_type": "markdown",
      "metadata": {
        "id": "view-in-github",
        "colab_type": "text"
      },
      "source": [
        "<a href=\"https://colab.research.google.com/github/denisekhuu/introduction_to_pytorch/blob/main/tensors.ipynb\" target=\"_parent\"><img src=\"https://colab.research.google.com/assets/colab-badge.svg\" alt=\"Open In Colab\"/></a>"
      ]
    },
    {
      "cell_type": "markdown",
      "source": [
        "## Tensors: Multidimensional Arrays"
      ],
      "metadata": {
        "id": "eZh20zMEnZm9"
      }
    },
    {
      "cell_type": "markdown",
      "source": [
        "Chapter 3 of Deep Learning with PyTorch:\n",
        "url: https://isip.piconepress.com/courses/temple/ece_4822/resources/books/Deep-Learning-with-PyTorch.pdf\n",
        "\n",
        "* Python lists or tuples of numbers are collections of Python objects that are individually\n",
        "allocated in memory\n",
        "* PyTorch tensors or NumPy\n",
        "arrays, on the other hand, are views over (typically) contiguous memory blocks\n",
        "* storing a 1D\n",
        "tensor of 1,000,000 float numbers will require exactly 4,000,000 contiguous bytes"
      ],
      "metadata": {
        "id": "Cd8EblUioVmp"
      }
    },
    {
      "cell_type": "code",
      "execution_count": 9,
      "metadata": {
        "id": "4mEZqIJqcZdb"
      },
      "outputs": [],
      "source": [
        "\n",
        "import torch \n"
      ]
    },
    {
      "cell_type": "code",
      "source": [
        "# Working with Tensors \n",
        "a = torch.ones(5)\n",
        "a[1]\n",
        "float(a[1])"
      ],
      "metadata": {
        "colab": {
          "base_uri": "https://localhost:8080/"
        },
        "id": "vEzkrRFAn4jL",
        "outputId": "d8c6eb18-d225-402e-82a6-f86318ed2d09"
      },
      "execution_count": null,
      "outputs": [
        {
          "output_type": "execute_result",
          "data": {
            "text/plain": [
              "1.0"
            ]
          },
          "metadata": {},
          "execution_count": 10
        }
      ]
    },
    {
      "cell_type": "code",
      "source": [
        "# initializing a multidimensional array\n",
        "points = torch.tensor([[4.0, 1.0], [5.0, 3.0], [2.0, 1.0]])\n",
        "points.shape # three rows and two columns\n",
        "points[1:]\n",
        "points[1:, :] #All rows after the first; all columns\n",
        "points[1:, 0] #All rows after the first: first column \n",
        "points[None] # Adds a dimension of size 1, just like unsqueeze\n",
        "torch.squeeze(points)\n"
      ],
      "metadata": {
        "colab": {
          "base_uri": "https://localhost:8080/"
        },
        "id": "yJ7o9SnUn9rg",
        "outputId": "b3ef90aa-260d-4e83-fed2-2fa78cf0cbfa"
      },
      "execution_count": null,
      "outputs": [
        {
          "output_type": "execute_result",
          "data": {
            "text/plain": [
              "tensor([[4., 1.],\n",
              "        [5., 3.],\n",
              "        [2., 1.]])"
            ]
          },
          "metadata": {},
          "execution_count": 15
        }
      ]
    },
    {
      "cell_type": "markdown",
      "source": [
        "## Named Tensors"
      ],
      "metadata": {
        "id": "Xo_BTMJatNQz"
      }
    },
    {
      "cell_type": "code",
      "source": [
        "# Named tensors\n",
        "img_t = torch.randn(3, 5, 5) # shape [channels, rows, columns]\n",
        "weights = torch.tensor([0.2126, 0.7152, 0.0722])\n",
        "batch_t = torch.randn(2, 3, 5, 5) # shape [batch, channels, rows, columns]\n",
        "img_gray_naive = img_t.mean(-3)\n",
        "batch_gray_naive = batch_t.mean(-3)\n",
        "img_gray_naive.shape, batch_gray_naive.shape"
      ],
      "metadata": {
        "colab": {
          "base_uri": "https://localhost:8080/"
        },
        "id": "q8GSZx2nothK",
        "outputId": "c8dfda3c-010f-43d8-f93e-92108d9a1be1"
      },
      "execution_count": null,
      "outputs": [
        {
          "output_type": "execute_result",
          "data": {
            "text/plain": [
              "(torch.Size([5, 5]), torch.Size([2, 5, 5]))"
            ]
          },
          "metadata": {},
          "execution_count": 16
        }
      ]
    },
    {
      "cell_type": "code",
      "source": [
        "unsqueezed_weights = weights.unsqueeze(-1).unsqueeze_(-1)\n",
        "img_weights = (img_t * unsqueezed_weights)\n",
        "batch_weights = (batch_t * unsqueezed_weights)\n",
        "img_gray_weighted = img_weights.sum(-3)\n",
        "batch_gray_weighted = batch_weights.sum(-3)\n",
        "batch_weights.shape, batch_t.shape, unsqueezed_weights.shape"
      ],
      "metadata": {
        "colab": {
          "base_uri": "https://localhost:8080/"
        },
        "id": "qawhxnpbro77",
        "outputId": "bff154ef-8663-4901-e73b-0fcd00f03a81"
      },
      "execution_count": null,
      "outputs": [
        {
          "output_type": "execute_result",
          "data": {
            "text/plain": [
              "(torch.Size([2, 3, 5, 5]), torch.Size([2, 3, 5, 5]), torch.Size([3, 1, 1]))"
            ]
          },
          "metadata": {},
          "execution_count": 17
        }
      ]
    },
    {
      "cell_type": "code",
      "source": [
        "weights_named = torch.tensor([0.2126, 0.7152, 0.0722], names=['channels']) # Name columns\n",
        "weights_named"
      ],
      "metadata": {
        "colab": {
          "base_uri": "https://localhost:8080/"
        },
        "id": "RvRVVFUCrutH",
        "outputId": "fb13f839-3ad7-4876-d58f-ef7003f9c517"
      },
      "execution_count": null,
      "outputs": [
        {
          "output_type": "execute_result",
          "data": {
            "text/plain": [
              "tensor([0.2126, 0.7152, 0.0722], names=('channels',))"
            ]
          },
          "metadata": {},
          "execution_count": 20
        }
      ]
    },
    {
      "cell_type": "code",
      "source": [
        "img_named = img_t.refine_names(..., 'channels', 'rows', 'columns')\n",
        "batch_named = batch_t.refine_names(..., 'channels', 'rows', 'columns')\n",
        "print(\"img named:\", img_named.shape, img_named.names)\n",
        "print(\"batch named:\", batch_named.shape, batch_named.names)"
      ],
      "metadata": {
        "colab": {
          "base_uri": "https://localhost:8080/"
        },
        "id": "jSZQW7GisbCP",
        "outputId": "0ecb3331-8a2d-4d27-e1c8-5d9cecb951e9"
      },
      "execution_count": null,
      "outputs": [
        {
          "output_type": "stream",
          "name": "stdout",
          "text": [
            "img named: torch.Size([3, 5, 5]) ('channels', 'rows', 'columns')\n",
            "batch named: torch.Size([2, 3, 5, 5]) (None, 'channels', 'rows', 'columns')\n"
          ]
        }
      ]
    },
    {
      "cell_type": "code",
      "source": [
        "weights_aligned = weights_named.align_as(img_named) # Align weigths with naming convention\n",
        "weights_aligned.shape, weights_aligned.names"
      ],
      "metadata": {
        "colab": {
          "base_uri": "https://localhost:8080/"
        },
        "id": "z14Q78t_ssdq",
        "outputId": "e6c9289c-23ea-47a8-86b9-c17b547c087c"
      },
      "execution_count": null,
      "outputs": [
        {
          "output_type": "execute_result",
          "data": {
            "text/plain": [
              "(torch.Size([3, 1, 1]), ('channels', 'rows', 'columns'))"
            ]
          },
          "metadata": {},
          "execution_count": 22
        }
      ]
    },
    {
      "cell_type": "code",
      "source": [
        "gray_named = (img_named * weights_aligned).sum('channels')\n",
        "gray_named.shape, gray_named.names"
      ],
      "metadata": {
        "colab": {
          "base_uri": "https://localhost:8080/"
        },
        "id": "z0sIKJkPs77N",
        "outputId": "7e0a76b9-ab3e-4715-dc18-66eba8de4f5c"
      },
      "execution_count": null,
      "outputs": [
        {
          "output_type": "execute_result",
          "data": {
            "text/plain": [
              "(torch.Size([5, 5]), ('rows', 'columns'))"
            ]
          },
          "metadata": {},
          "execution_count": 23
        }
      ]
    },
    {
      "cell_type": "markdown",
      "source": [
        "## Tensor Element Types"
      ],
      "metadata": {
        "id": "JcsDkQ_OtQXF"
      }
    },
    {
      "cell_type": "markdown",
      "source": [
        "* Numbers in Python are objects. Whereas a floating-point number might require\n",
        "only, for instance, 32 bits to be represented on a computer, Python will convert\n",
        "it into a full-fledged Python object with reference counting, and so on. This\n",
        "operation, called boxing, is not a problem if we need to store a small number of\n",
        "numbers, but allocating millions gets very inefficient\n",
        "* Lists in Python are meant for sequential collections of objects. There are no operations\n",
        "defined for, say, efficiently taking the dot product of two vectors, or summing vectors together. Also, Python lists have no way of optimizing the layout of their contents in memory, as they are indexable collections of pointers to Python objects\n",
        "(of any kind, not just numbers). Finally, Python lists are one-dimensional, and\n",
        "although we can create lists of lists, this is again very inefficient.\n",
        "* The Python interpreter is slow compared to optimized, compiled code. Performing mathematical operations on large collections of numerical data can be much faster\n",
        "using optimized code written in a compiled, low-level language like C.\n",
        "\n",
        "  - torch.float32 or torch.float: 32-bit floating-point\n",
        "  - torch.float64 or torch.double: 64-bit, double-precision floating-point\n",
        "  - torch.float16 or torch.half: 16-bit, half-precision floating-point\n",
        "  -  torch.int8: signed 8-bit integers\n",
        "  - torch.uint8: unsigned 8-bit integers\n",
        "  -  torch.int16 or torch.short: signed 16-bit integers\n",
        "  -  torch.int32 or torch.int: signed 32-bit integers\n",
        "  -  torch.int64 or torch.long: signed 64-bit integers\n",
        "  - torch.bool: Boolean"
      ],
      "metadata": {
        "id": "7vDd_1EguB7q"
      }
    },
    {
      "cell_type": "code",
      "source": [
        "# Managing a tensor's dtype attribute\n",
        "double_points = torch.ones(10, 2, dtype=torch.double)\n",
        "short_points = torch.tensor([[1, 2], [3, 4]], dtype=torch.short)\n",
        "double_points = torch.zeros(10, 2).double()\n",
        "short_points = torch.ones(10, 2).short()\n",
        "double_points = torch.zeros(10, 2).to(torch.double)\n",
        "short_points = torch.ones(10, 2).to(dtype=torch.short)"
      ],
      "metadata": {
        "id": "BYFi6zimtTXl"
      },
      "execution_count": null,
      "outputs": []
    },
    {
      "cell_type": "markdown",
      "source": [
        "### Indexing into storage "
      ],
      "metadata": {
        "id": "ue4TFAQfw7il"
      }
    },
    {
      "cell_type": "code",
      "source": [
        "points = torch.tensor([[4.0, 1.0], [5.0, 3.0], [2.0, 1.0]])\n",
        "points_storage = points.storage() # One dimensional storage\n",
        "points_storage[0] = 2.0 # assign new value to points[0][0]\n",
        "points"
      ],
      "metadata": {
        "colab": {
          "base_uri": "https://localhost:8080/"
        },
        "id": "kT2ElnViw-7o",
        "outputId": "d2a0f9cd-4298-49f3-b072-8683fbaaa59c"
      },
      "execution_count": null,
      "outputs": [
        {
          "output_type": "execute_result",
          "data": {
            "text/plain": [
              "tensor([[2., 1.],\n",
              "        [5., 3.],\n",
              "        [2., 1.]])"
            ]
          },
          "metadata": {},
          "execution_count": 25
        }
      ]
    },
    {
      "cell_type": "code",
      "source": [
        "points = torch.tensor([[4.0, 1.0], [5.0, 3.0], [2.0, 1.0]])\n",
        "points.storage()"
      ],
      "metadata": {
        "id": "4Y4I89WdxSYO"
      },
      "execution_count": null,
      "outputs": []
    },
    {
      "cell_type": "markdown",
      "source": [
        "### Modifying stored values: In-place operations"
      ],
      "metadata": {
        "id": "6PGrWBF9xpua"
      }
    },
    {
      "cell_type": "code",
      "source": [
        "a = torch.ones(3, 2)\n",
        "a.zero_()\n",
        "a"
      ],
      "metadata": {
        "colab": {
          "base_uri": "https://localhost:8080/"
        },
        "id": "Pfi86y30xoZB",
        "outputId": "46f73fb0-2480-434f-9aa1-d5a37bc1040e"
      },
      "execution_count": null,
      "outputs": [
        {
          "output_type": "execute_result",
          "data": {
            "text/plain": [
              "tensor([[0., 0.],\n",
              "        [0., 0.],\n",
              "        [0., 0.]])"
            ]
          },
          "metadata": {},
          "execution_count": 27
        }
      ]
    },
    {
      "cell_type": "code",
      "source": [
        "a = torch.ones(3, 2)\n",
        "b = a.new_zeros(3,2)\n",
        "a, b"
      ],
      "metadata": {
        "colab": {
          "base_uri": "https://localhost:8080/"
        },
        "id": "XK28UEgAxv9m",
        "outputId": "f2946a9f-2005-4e39-baef-8a32ab513f80"
      },
      "execution_count": null,
      "outputs": [
        {
          "output_type": "execute_result",
          "data": {
            "text/plain": [
              "(tensor([[1., 1.],\n",
              "         [1., 1.],\n",
              "         [1., 1.]]), tensor([[0., 0.],\n",
              "         [0., 0.],\n",
              "         [0., 0.]]))"
            ]
          },
          "metadata": {},
          "execution_count": 35
        }
      ]
    },
    {
      "cell_type": "markdown",
      "source": [
        "### Tensor  metadata: size, offset, and stride \n"
      ],
      "metadata": {
        "id": "9K0xZ2_py2if"
      }
    },
    {
      "cell_type": "markdown",
      "source": [
        "The storage offset is the index in the storage corresponding to the first element in the tensor.\n",
        "The stride is the number of elements in the storage that need to be skipped over to\n",
        "obtain the next element along each dimension.\n",
        "The stride is a tuple indicating the number of elements in the storage that have to be\n",
        "skipped when the index is increased by 1 in each dimension.\n",
        "Accessing an element i, j in a 2D tensor: \n",
        "\n",
        "storage_offset +\n",
        "stride[0] * i + stride[1] * j "
      ],
      "metadata": {
        "id": "owX_HSwOy8AO"
      }
    },
    {
      "cell_type": "code",
      "source": [
        "points = torch.tensor([[4.0, 1.0], [5.0, 3.0], [2.0, 1.0]])\n",
        "second_point = points[1]\n",
        "second_point.storage_offset()\n",
        "second_point.size()\n",
        "points.stride()"
      ],
      "metadata": {
        "colab": {
          "base_uri": "https://localhost:8080/"
        },
        "id": "thUW4qi2zO0k",
        "outputId": "32fd1f46-d6a6-492f-9d00-be66b5a2785e"
      },
      "execution_count": null,
      "outputs": [
        {
          "output_type": "execute_result",
          "data": {
            "text/plain": [
              "(2, 1)"
            ]
          },
          "metadata": {},
          "execution_count": 36
        }
      ]
    },
    {
      "cell_type": "code",
      "source": [
        "points = torch.tensor([[4.0, 1.0], [5.0, 3.0], [2.0, 1.0]]) # Changing storage\n",
        "second_point = points[1]\n",
        "second_point[0] = 10.0\n",
        "points"
      ],
      "metadata": {
        "colab": {
          "base_uri": "https://localhost:8080/"
        },
        "id": "MMfzrYVu0PpD",
        "outputId": "f09ec7c1-6c06-46ce-cb86-4e63dfa11657"
      },
      "execution_count": null,
      "outputs": [
        {
          "output_type": "execute_result",
          "data": {
            "text/plain": [
              "tensor([[ 4.,  1.],\n",
              "        [10.,  3.],\n",
              "        [ 2.,  1.]])"
            ]
          },
          "metadata": {},
          "execution_count": 37
        }
      ]
    },
    {
      "cell_type": "code",
      "source": [
        "points = torch.tensor([[4.0, 1.0], [5.0, 3.0], [2.0, 1.0]]) # Witout changing storage\n",
        "second_point = points[1].clone()\n",
        "second_point[0] = 10.0\n",
        "points"
      ],
      "metadata": {
        "colab": {
          "base_uri": "https://localhost:8080/"
        },
        "id": "Un-CBPtq0Snj",
        "outputId": "fba52d25-237d-4e77-e9f5-46e5050b69d5"
      },
      "execution_count": null,
      "outputs": [
        {
          "output_type": "execute_result",
          "data": {
            "text/plain": [
              "tensor([[4., 1.],\n",
              "        [5., 3.],\n",
              "        [2., 1.]])"
            ]
          },
          "metadata": {},
          "execution_count": 38
        }
      ]
    },
    {
      "cell_type": "markdown",
      "source": [
        "### Transposing without Copying"
      ],
      "metadata": {
        "id": "QbNu4JZA0fiN"
      }
    },
    {
      "cell_type": "code",
      "source": [
        "points = torch.tensor([[4.0, 1.0], [5.0, 3.0], [2.0, 1.0]])\n",
        "points"
      ],
      "metadata": {
        "colab": {
          "base_uri": "https://localhost:8080/"
        },
        "id": "FyGx97KC0eun",
        "outputId": "b5aabf94-7bec-48fd-8262-7d0701ec81d0"
      },
      "execution_count": null,
      "outputs": [
        {
          "output_type": "execute_result",
          "data": {
            "text/plain": [
              "tensor([[4., 1.],\n",
              "        [5., 3.],\n",
              "        [2., 1.]])"
            ]
          },
          "metadata": {},
          "execution_count": 39
        }
      ]
    },
    {
      "cell_type": "code",
      "source": [
        "points_t = points.t()\n",
        "points_t"
      ],
      "metadata": {
        "colab": {
          "base_uri": "https://localhost:8080/"
        },
        "id": "h-EBOEsQ0m2J",
        "outputId": "f07968a0-de9f-4987-cde3-d673557189a7"
      },
      "execution_count": null,
      "outputs": [
        {
          "output_type": "execute_result",
          "data": {
            "text/plain": [
              "tensor([[4., 5., 2.],\n",
              "        [1., 3., 1.]])"
            ]
          },
          "metadata": {},
          "execution_count": 40
        }
      ]
    },
    {
      "cell_type": "code",
      "source": [
        "some_t = torch.ones(3, 4, 5)\n",
        "transpose_t = some_t.transpose(0, 2)\n",
        "some_t.stride(), transpose_t.stride()"
      ],
      "metadata": {
        "colab": {
          "base_uri": "https://localhost:8080/"
        },
        "id": "RPtPD8Ta1feF",
        "outputId": "547907ec-fe62-4001-afa3-53c37889288a"
      },
      "execution_count": null,
      "outputs": [
        {
          "output_type": "execute_result",
          "data": {
            "text/plain": [
              "((20, 5, 1), (1, 5, 20))"
            ]
          },
          "metadata": {},
          "execution_count": 45
        }
      ]
    },
    {
      "cell_type": "code",
      "source": [
        "id(points.storage()) == id(points_t.storage())"
      ],
      "metadata": {
        "colab": {
          "base_uri": "https://localhost:8080/"
        },
        "id": "3AUj42ma0wBY",
        "outputId": "0b60313d-b14a-49db-df3a-8195da4ad066"
      },
      "execution_count": null,
      "outputs": [
        {
          "output_type": "execute_result",
          "data": {
            "text/plain": [
              "True"
            ]
          },
          "metadata": {},
          "execution_count": 41
        }
      ]
    },
    {
      "cell_type": "code",
      "source": [
        "points.stride()"
      ],
      "metadata": {
        "colab": {
          "base_uri": "https://localhost:8080/"
        },
        "id": "4FB6Coq80yD-",
        "outputId": "72ea2e69-f532-4551-cfdc-2c42a3c71ff0"
      },
      "execution_count": null,
      "outputs": [
        {
          "output_type": "execute_result",
          "data": {
            "text/plain": [
              "(2, 1)"
            ]
          },
          "metadata": {},
          "execution_count": 42
        }
      ]
    },
    {
      "cell_type": "code",
      "source": [
        "points_t.stride()"
      ],
      "metadata": {
        "colab": {
          "base_uri": "https://localhost:8080/"
        },
        "id": "tZX2p5sI0yKR",
        "outputId": "1d2e106c-09ec-45d0-dc16-eee1f4a2ed49"
      },
      "execution_count": null,
      "outputs": [
        {
          "output_type": "execute_result",
          "data": {
            "text/plain": [
              "(1, 2)"
            ]
          },
          "metadata": {},
          "execution_count": 43
        }
      ]
    },
    {
      "cell_type": "markdown",
      "source": [
        "### Continuous Tensors\n"
      ],
      "metadata": {
        "id": "bdqEVNLx1vwE"
      }
    },
    {
      "cell_type": "code",
      "source": [
        "points = torch.tensor([[4.0, 1.0], [5.0, 3.0], [2.0, 1.0]])\n",
        "points_t = points.t()\n",
        "points_t_cont = points_t.contiguous()\n",
        "points_t_cont,points.is_contiguous(), points_t.is_contiguous(), points_t_cont.is_contiguous()\n",
        "#points, points_t_cont, id(points.storage()) == id(points_t_cont.storage())"
      ],
      "metadata": {
        "colab": {
          "base_uri": "https://localhost:8080/"
        },
        "id": "mvX1CQ3I1e24",
        "outputId": "11ce5c06-9492-4226-d8e8-85940e1f1b9f"
      },
      "execution_count": null,
      "outputs": [
        {
          "output_type": "execute_result",
          "data": {
            "text/plain": [
              "(tensor([[4., 5., 2.],\n",
              "         [1., 3., 1.]]), True, False, True)"
            ]
          },
          "metadata": {},
          "execution_count": 50
        }
      ]
    },
    {
      "cell_type": "markdown",
      "source": [
        "# Managing a tensor's device attribute"
      ],
      "metadata": {
        "id": "V-zsrK8P2gH_"
      }
    },
    {
      "cell_type": "markdown",
      "source": [
        "Note that the points_gpu tensor is not brought back to the CPU once the result has\n",
        "been computed. Here’s what happened in this line:\n",
        "1. The points tensor is copied to the GPU.\n",
        "2. A new tensor is allocated on the GPU and used to store the result of the multiplication.\n",
        "3. A handle to that GPU tensor is returned.\n"
      ],
      "metadata": {
        "id": "Ic290fVo3Jih"
      }
    },
    {
      "cell_type": "code",
      "source": [
        "points_gpu = torch.tensor([[4.0, 1.0], [5.0, 3.0], [2.0, 1.0]], device='cuda')\n",
        "points = torch.tensor([[4.0, 1.0], [5.0, 3.0], [2.0, 1.0]])"
      ],
      "metadata": {
        "id": "knYOReEt2aUH"
      },
      "execution_count": null,
      "outputs": []
    },
    {
      "cell_type": "code",
      "source": [
        "points = 2 * points # Multiplication performed on CPU\n",
        "points_gpu=2* points.to(device='cuda') # Multiplication performed on GPU"
      ],
      "metadata": {
        "id": "2r0FFswA200X"
      },
      "execution_count": null,
      "outputs": []
    },
    {
      "cell_type": "code",
      "source": [
        "points_gpu = points_gpu + 4 # Performed on GPU \n",
        "points_cpu = points_gpu.to(device='cpu') # Result returned to CPU"
      ],
      "metadata": {
        "id": "itS4vu9E3Rsq"
      },
      "execution_count": null,
      "outputs": []
    },
    {
      "cell_type": "markdown",
      "source": [
        "### NumPy Interoperability"
      ],
      "metadata": {
        "id": "dyB0F5PwglOD"
      }
    },
    {
      "cell_type": "markdown",
      "source": [
        "While the default numeric type in PyTorch is 32-bit floating-point, for\n",
        "NumPy it is 64-bit. As discussed in section 3.5.2, we usually want to use 32-bit\n",
        "floating-points, so we need to make sure we have tensors of dtype torch\n",
        ".float after converting"
      ],
      "metadata": {
        "id": "60XjcDtTg15M"
      }
    },
    {
      "cell_type": "code",
      "source": [
        "points = torch.ones(3, 4)\n",
        "points_np = points.numpy()\n",
        "points_np"
      ],
      "metadata": {
        "colab": {
          "base_uri": "https://localhost:8080/"
        },
        "id": "67O4XHfRgqFX",
        "outputId": "7e2dc6c3-25ce-4a05-f9bb-c92596e80bf4"
      },
      "execution_count": 11,
      "outputs": [
        {
          "output_type": "execute_result",
          "data": {
            "text/plain": [
              "array([[1., 1., 1., 1.],\n",
              "       [1., 1., 1., 1.],\n",
              "       [1., 1., 1., 1.]], dtype=float32)"
            ]
          },
          "metadata": {},
          "execution_count": 11
        }
      ]
    },
    {
      "cell_type": "code",
      "source": [
        "points = torch.from_numpy(points_np)"
      ],
      "metadata": {
        "id": "4q7vVivwgvCl"
      },
      "execution_count": 12,
      "outputs": []
    },
    {
      "cell_type": "markdown",
      "source": [
        "### Serializing tensors"
      ],
      "metadata": {
        "id": "k0LV3JqYrIyP"
      }
    },
    {
      "cell_type": "code",
      "source": [
        "torch.save(points, './ourpoints.t')"
      ],
      "metadata": {
        "id": "CxXJQDuEskCS"
      },
      "execution_count": null,
      "outputs": []
    },
    {
      "cell_type": "code",
      "source": [
        "with open('./ourpoints.t','wb') as f:\n",
        "  torch.save(points, f)"
      ],
      "metadata": {
        "id": "IUc75_fBrMEc"
      },
      "execution_count": 14,
      "outputs": []
    },
    {
      "cell_type": "code",
      "source": [
        "points = torch.load('./ourpoints.t')"
      ],
      "metadata": {
        "id": "xm9pVAr6rwfc"
      },
      "execution_count": 15,
      "outputs": []
    },
    {
      "cell_type": "code",
      "source": [
        "with open('./ourpoints.t','rb') as f:\n",
        "  points = torch.load(f)"
      ],
      "metadata": {
        "id": "i9k0GJdxsL-j"
      },
      "execution_count": 18,
      "outputs": []
    },
    {
      "cell_type": "markdown",
      "source": [
        "### Serializing to HDF5 with h5py"
      ],
      "metadata": {
        "id": "OIQdtlBTsnM5"
      }
    },
    {
      "cell_type": "markdown",
      "source": [
        "Every use case is unique, but we suspect needing to save tensors interoperably will be more common when introducing PyTorch into existing systems that already rely on different libraries. New projects probably won’t need to do this as often"
      ],
      "metadata": {
        "id": "4KUezYuqsr2_"
      }
    },
    {
      "cell_type": "code",
      "source": [
        "!pip install h5py"
      ],
      "metadata": {
        "colab": {
          "base_uri": "https://localhost:8080/"
        },
        "id": "c-7vXyqXshdh",
        "outputId": "8f2dc904-907d-4ff3-bdc4-66e576bc1963"
      },
      "execution_count": 20,
      "outputs": [
        {
          "output_type": "stream",
          "name": "stdout",
          "text": [
            "Looking in indexes: https://pypi.org/simple, https://us-python.pkg.dev/colab-wheels/public/simple/\n",
            "Requirement already satisfied: h5py in /usr/local/lib/python3.7/dist-packages (3.1.0)\n",
            "Requirement already satisfied: cached-property in /usr/local/lib/python3.7/dist-packages (from h5py) (1.5.2)\n",
            "Requirement already satisfied: numpy>=1.14.5 in /usr/local/lib/python3.7/dist-packages (from h5py) (1.21.6)\n"
          ]
        }
      ]
    },
    {
      "cell_type": "code",
      "source": [
        "import h5py \n",
        "# Write to HDF5\n",
        "f = h5py.File('./ourpoints.hdf5', 'w')\n",
        "dset = f.create_dataset('coords', data=points.numpy())\n",
        "f.close()"
      ],
      "metadata": {
        "id": "LiDUpZ-cs4MY"
      },
      "execution_count": 22,
      "outputs": []
    },
    {
      "cell_type": "code",
      "source": [
        "# Read HDF5 File\n",
        "f = h5py.File('./ourpoints.hdf5', 'r')\n",
        "dset = f['coords']\n",
        "last_points = dset[-2:]\n",
        "last_points = torch.from_numpy(dset[-2:])\n",
        "f.close()"
      ],
      "metadata": {
        "id": "6NfHrHECtDxR"
      },
      "execution_count": 25,
      "outputs": []
    }
  ]
}